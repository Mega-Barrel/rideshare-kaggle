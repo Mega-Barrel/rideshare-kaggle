{
 "metadata": {
  "language_info": {
   "codemirror_mode": {
    "name": "ipython",
    "version": 3
   },
   "file_extension": ".py",
   "mimetype": "text/x-python",
   "name": "python",
   "nbconvert_exporter": "python",
   "pygments_lexer": "ipython3",
   "version": "3.8.5-final"
  },
  "orig_nbformat": 2,
  "kernelspec": {
   "name": "python3",
   "display_name": "Python 3"
  }
 },
 "nbformat": 4,
 "nbformat_minor": 2,
 "cells": [
  {
   "cell_type": "code",
   "execution_count": 1,
   "metadata": {},
   "outputs": [],
   "source": [
    "import numpy as np\n",
    "import pandas as pd"
   ]
  },
  {
   "cell_type": "code",
   "execution_count": 2,
   "metadata": {},
   "outputs": [],
   "source": [
    "rideshare = pd.read_csv('rideshare_kaggle.csv')"
   ]
  },
  {
   "cell_type": "code",
   "execution_count": 3,
   "metadata": {},
   "outputs": [
    {
     "output_type": "execute_result",
     "data": {
      "text/plain": [
       "                                     id     timestamp  hour  day  month  \\\n",
       "0  424553bb-7174-41ea-aeb4-fe06d4f4b9d7  1.544953e+09     9   16     12   \n",
       "1  4bd23055-6827-41c6-b23b-3c491f24e74d  1.543284e+09     2   27     11   \n",
       "2  981a3613-77af-4620-a42a-0c0866077d1e  1.543367e+09     1   28     11   \n",
       "3  c2d88af2-d278-4bfd-a8d0-29ca77cc5512  1.543554e+09     4   30     11   \n",
       "4  e0126e1f-8ca9-4f2e-82b3-50505a09db9a  1.543463e+09     3   29     11   \n",
       "\n",
       "              datetime          timezone            source    destination  \\\n",
       "0  2018-12-16 09:30:07  America/New_York  Haymarket Square  North Station   \n",
       "1  2018-11-27 02:00:23  America/New_York  Haymarket Square  North Station   \n",
       "2  2018-11-28 01:00:22  America/New_York  Haymarket Square  North Station   \n",
       "3  2018-11-30 04:53:02  America/New_York  Haymarket Square  North Station   \n",
       "4  2018-11-29 03:49:20  America/New_York  Haymarket Square  North Station   \n",
       "\n",
       "  cab_type  ... precipIntensityMax uvIndexTime  temperatureMin  \\\n",
       "0     Lyft  ...             0.1276  1544979600           39.89   \n",
       "1     Lyft  ...             0.1300  1543251600           40.49   \n",
       "2     Lyft  ...             0.1064  1543338000           35.36   \n",
       "3     Lyft  ...             0.0000  1543507200           34.67   \n",
       "4     Lyft  ...             0.0001  1543420800           33.10   \n",
       "\n",
       "   temperatureMinTime  temperatureMax  temperatureMaxTime  \\\n",
       "0          1545012000           43.68          1544968800   \n",
       "1          1543233600           47.30          1543251600   \n",
       "2          1543377600           47.55          1543320000   \n",
       "3          1543550400           45.03          1543510800   \n",
       "4          1543402800           42.18          1543420800   \n",
       "\n",
       "   apparentTemperatureMin  apparentTemperatureMinTime  apparentTemperatureMax  \\\n",
       "0                   33.73                  1545012000                   38.07   \n",
       "1                   36.20                  1543291200                   43.92   \n",
       "2                   31.04                  1543377600                   44.12   \n",
       "3                   30.30                  1543550400                   38.53   \n",
       "4                   29.11                  1543392000                   35.75   \n",
       "\n",
       "  apparentTemperatureMaxTime  \n",
       "0                 1544958000  \n",
       "1                 1543251600  \n",
       "2                 1543320000  \n",
       "3                 1543510800  \n",
       "4                 1543420800  \n",
       "\n",
       "[5 rows x 57 columns]"
      ],
      "text/html": "<div>\n<style scoped>\n    .dataframe tbody tr th:only-of-type {\n        vertical-align: middle;\n    }\n\n    .dataframe tbody tr th {\n        vertical-align: top;\n    }\n\n    .dataframe thead th {\n        text-align: right;\n    }\n</style>\n<table border=\"1\" class=\"dataframe\">\n  <thead>\n    <tr style=\"text-align: right;\">\n      <th></th>\n      <th>id</th>\n      <th>timestamp</th>\n      <th>hour</th>\n      <th>day</th>\n      <th>month</th>\n      <th>datetime</th>\n      <th>timezone</th>\n      <th>source</th>\n      <th>destination</th>\n      <th>cab_type</th>\n      <th>...</th>\n      <th>precipIntensityMax</th>\n      <th>uvIndexTime</th>\n      <th>temperatureMin</th>\n      <th>temperatureMinTime</th>\n      <th>temperatureMax</th>\n      <th>temperatureMaxTime</th>\n      <th>apparentTemperatureMin</th>\n      <th>apparentTemperatureMinTime</th>\n      <th>apparentTemperatureMax</th>\n      <th>apparentTemperatureMaxTime</th>\n    </tr>\n  </thead>\n  <tbody>\n    <tr>\n      <th>0</th>\n      <td>424553bb-7174-41ea-aeb4-fe06d4f4b9d7</td>\n      <td>1.544953e+09</td>\n      <td>9</td>\n      <td>16</td>\n      <td>12</td>\n      <td>2018-12-16 09:30:07</td>\n      <td>America/New_York</td>\n      <td>Haymarket Square</td>\n      <td>North Station</td>\n      <td>Lyft</td>\n      <td>...</td>\n      <td>0.1276</td>\n      <td>1544979600</td>\n      <td>39.89</td>\n      <td>1545012000</td>\n      <td>43.68</td>\n      <td>1544968800</td>\n      <td>33.73</td>\n      <td>1545012000</td>\n      <td>38.07</td>\n      <td>1544958000</td>\n    </tr>\n    <tr>\n      <th>1</th>\n      <td>4bd23055-6827-41c6-b23b-3c491f24e74d</td>\n      <td>1.543284e+09</td>\n      <td>2</td>\n      <td>27</td>\n      <td>11</td>\n      <td>2018-11-27 02:00:23</td>\n      <td>America/New_York</td>\n      <td>Haymarket Square</td>\n      <td>North Station</td>\n      <td>Lyft</td>\n      <td>...</td>\n      <td>0.1300</td>\n      <td>1543251600</td>\n      <td>40.49</td>\n      <td>1543233600</td>\n      <td>47.30</td>\n      <td>1543251600</td>\n      <td>36.20</td>\n      <td>1543291200</td>\n      <td>43.92</td>\n      <td>1543251600</td>\n    </tr>\n    <tr>\n      <th>2</th>\n      <td>981a3613-77af-4620-a42a-0c0866077d1e</td>\n      <td>1.543367e+09</td>\n      <td>1</td>\n      <td>28</td>\n      <td>11</td>\n      <td>2018-11-28 01:00:22</td>\n      <td>America/New_York</td>\n      <td>Haymarket Square</td>\n      <td>North Station</td>\n      <td>Lyft</td>\n      <td>...</td>\n      <td>0.1064</td>\n      <td>1543338000</td>\n      <td>35.36</td>\n      <td>1543377600</td>\n      <td>47.55</td>\n      <td>1543320000</td>\n      <td>31.04</td>\n      <td>1543377600</td>\n      <td>44.12</td>\n      <td>1543320000</td>\n    </tr>\n    <tr>\n      <th>3</th>\n      <td>c2d88af2-d278-4bfd-a8d0-29ca77cc5512</td>\n      <td>1.543554e+09</td>\n      <td>4</td>\n      <td>30</td>\n      <td>11</td>\n      <td>2018-11-30 04:53:02</td>\n      <td>America/New_York</td>\n      <td>Haymarket Square</td>\n      <td>North Station</td>\n      <td>Lyft</td>\n      <td>...</td>\n      <td>0.0000</td>\n      <td>1543507200</td>\n      <td>34.67</td>\n      <td>1543550400</td>\n      <td>45.03</td>\n      <td>1543510800</td>\n      <td>30.30</td>\n      <td>1543550400</td>\n      <td>38.53</td>\n      <td>1543510800</td>\n    </tr>\n    <tr>\n      <th>4</th>\n      <td>e0126e1f-8ca9-4f2e-82b3-50505a09db9a</td>\n      <td>1.543463e+09</td>\n      <td>3</td>\n      <td>29</td>\n      <td>11</td>\n      <td>2018-11-29 03:49:20</td>\n      <td>America/New_York</td>\n      <td>Haymarket Square</td>\n      <td>North Station</td>\n      <td>Lyft</td>\n      <td>...</td>\n      <td>0.0001</td>\n      <td>1543420800</td>\n      <td>33.10</td>\n      <td>1543402800</td>\n      <td>42.18</td>\n      <td>1543420800</td>\n      <td>29.11</td>\n      <td>1543392000</td>\n      <td>35.75</td>\n      <td>1543420800</td>\n    </tr>\n  </tbody>\n</table>\n<p>5 rows × 57 columns</p>\n</div>"
     },
     "metadata": {},
     "execution_count": 3
    }
   ],
   "source": [
    "rideshare.head(5)"
   ]
  },
  {
   "cell_type": "code",
   "execution_count": 4,
   "metadata": {},
   "outputs": [
    {
     "output_type": "execute_result",
     "data": {
      "text/plain": [
       "Index(['id', 'timestamp', 'hour', 'day', 'month', 'datetime', 'timezone',\n",
       "       'source', 'destination', 'cab_type', 'product_id', 'name', 'price',\n",
       "       'distance', 'surge_multiplier', 'latitude', 'longitude', 'temperature',\n",
       "       'apparentTemperature', 'short_summary', 'long_summary',\n",
       "       'precipIntensity', 'precipProbability', 'humidity', 'windSpeed',\n",
       "       'windGust', 'windGustTime', 'visibility', 'temperatureHigh',\n",
       "       'temperatureHighTime', 'temperatureLow', 'temperatureLowTime',\n",
       "       'apparentTemperatureHigh', 'apparentTemperatureHighTime',\n",
       "       'apparentTemperatureLow', 'apparentTemperatureLowTime', 'icon',\n",
       "       'dewPoint', 'pressure', 'windBearing', 'cloudCover', 'uvIndex',\n",
       "       'visibility.1', 'ozone', 'sunriseTime', 'sunsetTime', 'moonPhase',\n",
       "       'precipIntensityMax', 'uvIndexTime', 'temperatureMin',\n",
       "       'temperatureMinTime', 'temperatureMax', 'temperatureMaxTime',\n",
       "       'apparentTemperatureMin', 'apparentTemperatureMinTime',\n",
       "       'apparentTemperatureMax', 'apparentTemperatureMaxTime'],\n",
       "      dtype='object')"
      ]
     },
     "metadata": {},
     "execution_count": 4
    }
   ],
   "source": [
    "rideshare.columns"
   ]
  },
  {
   "cell_type": "code",
   "execution_count": 5,
   "metadata": {},
   "outputs": [
    {
     "output_type": "execute_result",
     "data": {
      "text/plain": [
       "          timestamp           hour            day          month  \\\n",
       "count  6.930710e+05  693071.000000  693071.000000  693071.000000   \n",
       "mean   1.544046e+09      11.619137      17.794365      11.586684   \n",
       "std    6.891925e+05       6.948114       9.982286       0.492429   \n",
       "min    1.543204e+09       0.000000       1.000000      11.000000   \n",
       "25%    1.543444e+09       6.000000      13.000000      11.000000   \n",
       "50%    1.543737e+09      12.000000      17.000000      12.000000   \n",
       "75%    1.544828e+09      18.000000      28.000000      12.000000   \n",
       "max    1.545161e+09      23.000000      30.000000      12.000000   \n",
       "\n",
       "               price       distance  surge_multiplier       latitude  \\\n",
       "count  637976.000000  693071.000000     693071.000000  693071.000000   \n",
       "mean       16.545125       2.189430          1.013870      42.338172   \n",
       "std         9.324359       1.138937          0.091641       0.047840   \n",
       "min         2.500000       0.020000          1.000000      42.214800   \n",
       "25%         9.000000       1.280000          1.000000      42.350300   \n",
       "50%        13.500000       2.160000          1.000000      42.351900   \n",
       "75%        22.500000       2.920000          1.000000      42.364700   \n",
       "max        97.500000       7.860000          3.000000      42.366100   \n",
       "\n",
       "           longitude    temperature  ...  precipIntensityMax   uvIndexTime  \\\n",
       "count  693071.000000  693071.000000  ...       693071.000000  6.930710e+05   \n",
       "mean      -71.066151      39.584388  ...            0.037374  1.544044e+09   \n",
       "std         0.020302       6.726084  ...            0.055214  6.912028e+05   \n",
       "min       -71.105400      18.910000  ...            0.000000  1.543162e+09   \n",
       "25%       -71.081000      36.450000  ...            0.000000  1.543421e+09   \n",
       "50%       -71.063100      40.490000  ...            0.000400  1.543770e+09   \n",
       "75%       -71.054200      43.580000  ...            0.091600  1.544807e+09   \n",
       "max       -71.033000      57.220000  ...            0.145900  1.545152e+09   \n",
       "\n",
       "       temperatureMin  temperatureMinTime  temperatureMax  temperatureMaxTime  \\\n",
       "count   693071.000000        6.930710e+05   693071.000000        6.930710e+05   \n",
       "mean        33.457774        1.544042e+09       45.261313        1.544047e+09   \n",
       "std          6.467224        6.901954e+05        5.645046        6.901353e+05   \n",
       "min         15.630000        1.543122e+09       33.510000        1.543154e+09   \n",
       "25%         30.170000        1.543399e+09       42.570000        1.543439e+09   \n",
       "50%         34.240000        1.543727e+09       44.680000        1.543788e+09   \n",
       "75%         38.880000        1.544789e+09       46.910000        1.544814e+09   \n",
       "max         43.100000        1.545192e+09       57.870000        1.545109e+09   \n",
       "\n",
       "       apparentTemperatureMin  apparentTemperatureMinTime  \\\n",
       "count           693071.000000                6.930710e+05   \n",
       "mean                29.731002                1.544048e+09   \n",
       "std                  7.110494                6.871862e+05   \n",
       "min                 11.810000                1.543136e+09   \n",
       "25%                 27.760000                1.543399e+09   \n",
       "50%                 30.130000                1.543745e+09   \n",
       "75%                 35.710000                1.544789e+09   \n",
       "max                 40.050000                1.545134e+09   \n",
       "\n",
       "       apparentTemperatureMax  apparentTemperatureMaxTime  \n",
       "count           693071.000000                6.930710e+05  \n",
       "mean                41.997343                1.544048e+09  \n",
       "std                  6.936841                6.910777e+05  \n",
       "min                 28.950000                1.543187e+09  \n",
       "25%                 36.570000                1.543439e+09  \n",
       "50%                 40.950000                1.543788e+09  \n",
       "75%                 44.120000                1.544818e+09  \n",
       "max                 57.200000                1.545109e+09  \n",
       "\n",
       "[8 rows x 46 columns]"
      ],
      "text/html": "<div>\n<style scoped>\n    .dataframe tbody tr th:only-of-type {\n        vertical-align: middle;\n    }\n\n    .dataframe tbody tr th {\n        vertical-align: top;\n    }\n\n    .dataframe thead th {\n        text-align: right;\n    }\n</style>\n<table border=\"1\" class=\"dataframe\">\n  <thead>\n    <tr style=\"text-align: right;\">\n      <th></th>\n      <th>timestamp</th>\n      <th>hour</th>\n      <th>day</th>\n      <th>month</th>\n      <th>price</th>\n      <th>distance</th>\n      <th>surge_multiplier</th>\n      <th>latitude</th>\n      <th>longitude</th>\n      <th>temperature</th>\n      <th>...</th>\n      <th>precipIntensityMax</th>\n      <th>uvIndexTime</th>\n      <th>temperatureMin</th>\n      <th>temperatureMinTime</th>\n      <th>temperatureMax</th>\n      <th>temperatureMaxTime</th>\n      <th>apparentTemperatureMin</th>\n      <th>apparentTemperatureMinTime</th>\n      <th>apparentTemperatureMax</th>\n      <th>apparentTemperatureMaxTime</th>\n    </tr>\n  </thead>\n  <tbody>\n    <tr>\n      <th>count</th>\n      <td>6.930710e+05</td>\n      <td>693071.000000</td>\n      <td>693071.000000</td>\n      <td>693071.000000</td>\n      <td>637976.000000</td>\n      <td>693071.000000</td>\n      <td>693071.000000</td>\n      <td>693071.000000</td>\n      <td>693071.000000</td>\n      <td>693071.000000</td>\n      <td>...</td>\n      <td>693071.000000</td>\n      <td>6.930710e+05</td>\n      <td>693071.000000</td>\n      <td>6.930710e+05</td>\n      <td>693071.000000</td>\n      <td>6.930710e+05</td>\n      <td>693071.000000</td>\n      <td>6.930710e+05</td>\n      <td>693071.000000</td>\n      <td>6.930710e+05</td>\n    </tr>\n    <tr>\n      <th>mean</th>\n      <td>1.544046e+09</td>\n      <td>11.619137</td>\n      <td>17.794365</td>\n      <td>11.586684</td>\n      <td>16.545125</td>\n      <td>2.189430</td>\n      <td>1.013870</td>\n      <td>42.338172</td>\n      <td>-71.066151</td>\n      <td>39.584388</td>\n      <td>...</td>\n      <td>0.037374</td>\n      <td>1.544044e+09</td>\n      <td>33.457774</td>\n      <td>1.544042e+09</td>\n      <td>45.261313</td>\n      <td>1.544047e+09</td>\n      <td>29.731002</td>\n      <td>1.544048e+09</td>\n      <td>41.997343</td>\n      <td>1.544048e+09</td>\n    </tr>\n    <tr>\n      <th>std</th>\n      <td>6.891925e+05</td>\n      <td>6.948114</td>\n      <td>9.982286</td>\n      <td>0.492429</td>\n      <td>9.324359</td>\n      <td>1.138937</td>\n      <td>0.091641</td>\n      <td>0.047840</td>\n      <td>0.020302</td>\n      <td>6.726084</td>\n      <td>...</td>\n      <td>0.055214</td>\n      <td>6.912028e+05</td>\n      <td>6.467224</td>\n      <td>6.901954e+05</td>\n      <td>5.645046</td>\n      <td>6.901353e+05</td>\n      <td>7.110494</td>\n      <td>6.871862e+05</td>\n      <td>6.936841</td>\n      <td>6.910777e+05</td>\n    </tr>\n    <tr>\n      <th>min</th>\n      <td>1.543204e+09</td>\n      <td>0.000000</td>\n      <td>1.000000</td>\n      <td>11.000000</td>\n      <td>2.500000</td>\n      <td>0.020000</td>\n      <td>1.000000</td>\n      <td>42.214800</td>\n      <td>-71.105400</td>\n      <td>18.910000</td>\n      <td>...</td>\n      <td>0.000000</td>\n      <td>1.543162e+09</td>\n      <td>15.630000</td>\n      <td>1.543122e+09</td>\n      <td>33.510000</td>\n      <td>1.543154e+09</td>\n      <td>11.810000</td>\n      <td>1.543136e+09</td>\n      <td>28.950000</td>\n      <td>1.543187e+09</td>\n    </tr>\n    <tr>\n      <th>25%</th>\n      <td>1.543444e+09</td>\n      <td>6.000000</td>\n      <td>13.000000</td>\n      <td>11.000000</td>\n      <td>9.000000</td>\n      <td>1.280000</td>\n      <td>1.000000</td>\n      <td>42.350300</td>\n      <td>-71.081000</td>\n      <td>36.450000</td>\n      <td>...</td>\n      <td>0.000000</td>\n      <td>1.543421e+09</td>\n      <td>30.170000</td>\n      <td>1.543399e+09</td>\n      <td>42.570000</td>\n      <td>1.543439e+09</td>\n      <td>27.760000</td>\n      <td>1.543399e+09</td>\n      <td>36.570000</td>\n      <td>1.543439e+09</td>\n    </tr>\n    <tr>\n      <th>50%</th>\n      <td>1.543737e+09</td>\n      <td>12.000000</td>\n      <td>17.000000</td>\n      <td>12.000000</td>\n      <td>13.500000</td>\n      <td>2.160000</td>\n      <td>1.000000</td>\n      <td>42.351900</td>\n      <td>-71.063100</td>\n      <td>40.490000</td>\n      <td>...</td>\n      <td>0.000400</td>\n      <td>1.543770e+09</td>\n      <td>34.240000</td>\n      <td>1.543727e+09</td>\n      <td>44.680000</td>\n      <td>1.543788e+09</td>\n      <td>30.130000</td>\n      <td>1.543745e+09</td>\n      <td>40.950000</td>\n      <td>1.543788e+09</td>\n    </tr>\n    <tr>\n      <th>75%</th>\n      <td>1.544828e+09</td>\n      <td>18.000000</td>\n      <td>28.000000</td>\n      <td>12.000000</td>\n      <td>22.500000</td>\n      <td>2.920000</td>\n      <td>1.000000</td>\n      <td>42.364700</td>\n      <td>-71.054200</td>\n      <td>43.580000</td>\n      <td>...</td>\n      <td>0.091600</td>\n      <td>1.544807e+09</td>\n      <td>38.880000</td>\n      <td>1.544789e+09</td>\n      <td>46.910000</td>\n      <td>1.544814e+09</td>\n      <td>35.710000</td>\n      <td>1.544789e+09</td>\n      <td>44.120000</td>\n      <td>1.544818e+09</td>\n    </tr>\n    <tr>\n      <th>max</th>\n      <td>1.545161e+09</td>\n      <td>23.000000</td>\n      <td>30.000000</td>\n      <td>12.000000</td>\n      <td>97.500000</td>\n      <td>7.860000</td>\n      <td>3.000000</td>\n      <td>42.366100</td>\n      <td>-71.033000</td>\n      <td>57.220000</td>\n      <td>...</td>\n      <td>0.145900</td>\n      <td>1.545152e+09</td>\n      <td>43.100000</td>\n      <td>1.545192e+09</td>\n      <td>57.870000</td>\n      <td>1.545109e+09</td>\n      <td>40.050000</td>\n      <td>1.545134e+09</td>\n      <td>57.200000</td>\n      <td>1.545109e+09</td>\n    </tr>\n  </tbody>\n</table>\n<p>8 rows × 46 columns</p>\n</div>"
     },
     "metadata": {},
     "execution_count": 5
    }
   ],
   "source": [
    "rideshare.describe()"
   ]
  },
  {
   "cell_type": "code",
   "execution_count": 6,
   "metadata": {},
   "outputs": [
    {
     "output_type": "stream",
     "name": "stdout",
     "text": [
      "<class 'pandas.core.frame.DataFrame'>\nRangeIndex: 693071 entries, 0 to 693070\nData columns (total 57 columns):\n #   Column                       Non-Null Count   Dtype  \n---  ------                       --------------   -----  \n 0   id                           693071 non-null  object \n 1   timestamp                    693071 non-null  float64\n 2   hour                         693071 non-null  int64  \n 3   day                          693071 non-null  int64  \n 4   month                        693071 non-null  int64  \n 5   datetime                     693071 non-null  object \n 6   timezone                     693071 non-null  object \n 7   source                       693071 non-null  object \n 8   destination                  693071 non-null  object \n 9   cab_type                     693071 non-null  object \n 10  product_id                   693071 non-null  object \n 11  name                         693071 non-null  object \n 12  price                        637976 non-null  float64\n 13  distance                     693071 non-null  float64\n 14  surge_multiplier             693071 non-null  float64\n 15  latitude                     693071 non-null  float64\n 16  longitude                    693071 non-null  float64\n 17  temperature                  693071 non-null  float64\n 18  apparentTemperature          693071 non-null  float64\n 19  short_summary                693071 non-null  object \n 20  long_summary                 693071 non-null  object \n 21  precipIntensity              693071 non-null  float64\n 22  precipProbability            693071 non-null  float64\n 23  humidity                     693071 non-null  float64\n 24  windSpeed                    693071 non-null  float64\n 25  windGust                     693071 non-null  float64\n 26  windGustTime                 693071 non-null  int64  \n 27  visibility                   693071 non-null  float64\n 28  temperatureHigh              693071 non-null  float64\n 29  temperatureHighTime          693071 non-null  int64  \n 30  temperatureLow               693071 non-null  float64\n 31  temperatureLowTime           693071 non-null  int64  \n 32  apparentTemperatureHigh      693071 non-null  float64\n 33  apparentTemperatureHighTime  693071 non-null  int64  \n 34  apparentTemperatureLow       693071 non-null  float64\n 35  apparentTemperatureLowTime   693071 non-null  int64  \n 36  icon                         693071 non-null  object \n 37  dewPoint                     693071 non-null  float64\n 38  pressure                     693071 non-null  float64\n 39  windBearing                  693071 non-null  int64  \n 40  cloudCover                   693071 non-null  float64\n 41  uvIndex                      693071 non-null  int64  \n 42  visibility.1                 693071 non-null  float64\n 43  ozone                        693071 non-null  float64\n 44  sunriseTime                  693071 non-null  int64  \n 45  sunsetTime                   693071 non-null  int64  \n 46  moonPhase                    693071 non-null  float64\n 47  precipIntensityMax           693071 non-null  float64\n 48  uvIndexTime                  693071 non-null  int64  \n 49  temperatureMin               693071 non-null  float64\n 50  temperatureMinTime           693071 non-null  int64  \n 51  temperatureMax               693071 non-null  float64\n 52  temperatureMaxTime           693071 non-null  int64  \n 53  apparentTemperatureMin       693071 non-null  float64\n 54  apparentTemperatureMinTime   693071 non-null  int64  \n 55  apparentTemperatureMax       693071 non-null  float64\n 56  apparentTemperatureMaxTime   693071 non-null  int64  \ndtypes: float64(29), int64(17), object(11)\nmemory usage: 272.3+ MB\n"
     ]
    }
   ],
   "source": [
    "rideshare.info()"
   ]
  },
  {
   "source": [
    "***Removing Unwanted Columns***"
   ],
   "cell_type": "markdown",
   "metadata": {}
  },
  {
   "cell_type": "code",
   "execution_count": 7,
   "metadata": {},
   "outputs": [],
   "source": [
    "rideshare.drop(['apparentTemperature', 'short_summary', 'long_summary',\n",
    "'precipIntensity', 'precipProbability', 'humidity', 'windSpeed',\n",
    "'windGust', 'windGustTime', 'visibility.1', 'temperatureHigh',\n",
    "'temperatureHighTime', 'temperatureLow', 'temperatureLowTime',\n",
    "'apparentTemperatureHigh', 'apparentTemperatureHighTime',\n",
    "'apparentTemperatureLow', 'apparentTemperatureLowTime', 'icon',\n",
    "'dewPoint', 'pressure', 'windBearing', 'cloudCover', 'uvIndex',\n",
    "'ozone', 'sunriseTime', 'sunsetTime', 'moonPhase',\n",
    "'precipIntensityMax', 'uvIndexTime', 'temperatureMin',\n",
    "'temperatureMinTime', 'temperatureMax', 'temperatureMaxTime',\n",
    "'apparentTemperatureMin', 'apparentTemperatureMinTime',\n",
    "'apparentTemperatureMax', 'apparentTemperatureMaxTime'], axis = 1, inplace=True)"
   ]
  },
  {
   "cell_type": "code",
   "execution_count": 8,
   "metadata": {},
   "outputs": [
    {
     "output_type": "execute_result",
     "data": {
      "text/plain": [
       "Index(['id', 'timestamp', 'hour', 'day', 'month', 'datetime', 'timezone',\n",
       "       'source', 'destination', 'cab_type', 'product_id', 'name', 'price',\n",
       "       'distance', 'surge_multiplier', 'latitude', 'longitude', 'temperature',\n",
       "       'visibility'],\n",
       "      dtype='object')"
      ]
     },
     "metadata": {},
     "execution_count": 8
    }
   ],
   "source": [
    "rideshare.columns"
   ]
  },
  {
   "cell_type": "code",
   "execution_count": 9,
   "metadata": {},
   "outputs": [
    {
     "output_type": "execute_result",
     "data": {
      "text/plain": [
       "                                     id     timestamp  hour  day  month  \\\n",
       "0  424553bb-7174-41ea-aeb4-fe06d4f4b9d7  1.544953e+09     9   16     12   \n",
       "\n",
       "              datetime          timezone            source    destination  \\\n",
       "0  2018-12-16 09:30:07  America/New_York  Haymarket Square  North Station   \n",
       "\n",
       "  cab_type product_id    name  price  distance  surge_multiplier  latitude  \\\n",
       "0     Lyft  lyft_line  Shared    5.0      0.44               1.0   42.2148   \n",
       "\n",
       "   longitude  temperature  visibility  \n",
       "0    -71.033        42.34        10.0  "
      ],
      "text/html": "<div>\n<style scoped>\n    .dataframe tbody tr th:only-of-type {\n        vertical-align: middle;\n    }\n\n    .dataframe tbody tr th {\n        vertical-align: top;\n    }\n\n    .dataframe thead th {\n        text-align: right;\n    }\n</style>\n<table border=\"1\" class=\"dataframe\">\n  <thead>\n    <tr style=\"text-align: right;\">\n      <th></th>\n      <th>id</th>\n      <th>timestamp</th>\n      <th>hour</th>\n      <th>day</th>\n      <th>month</th>\n      <th>datetime</th>\n      <th>timezone</th>\n      <th>source</th>\n      <th>destination</th>\n      <th>cab_type</th>\n      <th>product_id</th>\n      <th>name</th>\n      <th>price</th>\n      <th>distance</th>\n      <th>surge_multiplier</th>\n      <th>latitude</th>\n      <th>longitude</th>\n      <th>temperature</th>\n      <th>visibility</th>\n    </tr>\n  </thead>\n  <tbody>\n    <tr>\n      <th>0</th>\n      <td>424553bb-7174-41ea-aeb4-fe06d4f4b9d7</td>\n      <td>1.544953e+09</td>\n      <td>9</td>\n      <td>16</td>\n      <td>12</td>\n      <td>2018-12-16 09:30:07</td>\n      <td>America/New_York</td>\n      <td>Haymarket Square</td>\n      <td>North Station</td>\n      <td>Lyft</td>\n      <td>lyft_line</td>\n      <td>Shared</td>\n      <td>5.0</td>\n      <td>0.44</td>\n      <td>1.0</td>\n      <td>42.2148</td>\n      <td>-71.033</td>\n      <td>42.34</td>\n      <td>10.0</td>\n    </tr>\n  </tbody>\n</table>\n</div>"
     },
     "metadata": {},
     "execution_count": 9
    }
   ],
   "source": [
    "rideshare.head(1)"
   ]
  },
  {
   "cell_type": "code",
   "execution_count": 10,
   "metadata": {},
   "outputs": [],
   "source": [
    "rideshare.drop(['timestamp', 'timezone'], axis=1, inplace=True)"
   ]
  },
  {
   "source": [
    "***Creating Column for Year and Time***"
   ],
   "cell_type": "markdown",
   "metadata": {}
  },
  {
   "cell_type": "code",
   "execution_count": 11,
   "metadata": {},
   "outputs": [],
   "source": [
    "rideshare['year'] = rideshare['datetime'].apply(lambda x: x.split('-')[0])"
   ]
  },
  {
   "cell_type": "code",
   "execution_count": 12,
   "metadata": {},
   "outputs": [],
   "source": [
    "rideshare['time'] = rideshare['datetime'].apply(lambda x: x.split(' ')[1])"
   ]
  },
  {
   "cell_type": "code",
   "execution_count": 13,
   "metadata": {},
   "outputs": [
    {
     "output_type": "execute_result",
     "data": {
      "text/plain": [
       "0         2018\n",
       "1         2018\n",
       "2         2018\n",
       "3         2018\n",
       "4         2018\n",
       "          ... \n",
       "693066    2018\n",
       "693067    2018\n",
       "693068    2018\n",
       "693069    2018\n",
       "693070    2018\n",
       "Name: year, Length: 693071, dtype: object"
      ]
     },
     "metadata": {},
     "execution_count": 13
    }
   ],
   "source": [
    "rideshare['year']"
   ]
  },
  {
   "cell_type": "code",
   "execution_count": 14,
   "metadata": {},
   "outputs": [
    {
     "output_type": "execute_result",
     "data": {
      "text/plain": [
       "0         09:30:07\n",
       "1         02:00:23\n",
       "2         01:00:22\n",
       "3         04:53:02\n",
       "4         03:49:20\n",
       "            ...   \n",
       "693066    23:53:05\n",
       "693067    23:53:05\n",
       "693068    23:53:05\n",
       "693069    23:53:05\n",
       "693070    23:53:05\n",
       "Name: time, Length: 693071, dtype: object"
      ]
     },
     "metadata": {},
     "execution_count": 14
    }
   ],
   "source": [
    "rideshare['time']"
   ]
  },
  {
   "cell_type": "code",
   "execution_count": 15,
   "metadata": {},
   "outputs": [
    {
     "output_type": "execute_result",
     "data": {
      "text/plain": [
       "                                     id  hour  day  month  \\\n",
       "0  424553bb-7174-41ea-aeb4-fe06d4f4b9d7     9   16     12   \n",
       "\n",
       "              datetime            source    destination cab_type product_id  \\\n",
       "0  2018-12-16 09:30:07  Haymarket Square  North Station     Lyft  lyft_line   \n",
       "\n",
       "     name  price  distance  surge_multiplier  latitude  longitude  \\\n",
       "0  Shared    5.0      0.44               1.0   42.2148    -71.033   \n",
       "\n",
       "   temperature  visibility  year      time  \n",
       "0        42.34        10.0  2018  09:30:07  "
      ],
      "text/html": "<div>\n<style scoped>\n    .dataframe tbody tr th:only-of-type {\n        vertical-align: middle;\n    }\n\n    .dataframe tbody tr th {\n        vertical-align: top;\n    }\n\n    .dataframe thead th {\n        text-align: right;\n    }\n</style>\n<table border=\"1\" class=\"dataframe\">\n  <thead>\n    <tr style=\"text-align: right;\">\n      <th></th>\n      <th>id</th>\n      <th>hour</th>\n      <th>day</th>\n      <th>month</th>\n      <th>datetime</th>\n      <th>source</th>\n      <th>destination</th>\n      <th>cab_type</th>\n      <th>product_id</th>\n      <th>name</th>\n      <th>price</th>\n      <th>distance</th>\n      <th>surge_multiplier</th>\n      <th>latitude</th>\n      <th>longitude</th>\n      <th>temperature</th>\n      <th>visibility</th>\n      <th>year</th>\n      <th>time</th>\n    </tr>\n  </thead>\n  <tbody>\n    <tr>\n      <th>0</th>\n      <td>424553bb-7174-41ea-aeb4-fe06d4f4b9d7</td>\n      <td>9</td>\n      <td>16</td>\n      <td>12</td>\n      <td>2018-12-16 09:30:07</td>\n      <td>Haymarket Square</td>\n      <td>North Station</td>\n      <td>Lyft</td>\n      <td>lyft_line</td>\n      <td>Shared</td>\n      <td>5.0</td>\n      <td>0.44</td>\n      <td>1.0</td>\n      <td>42.2148</td>\n      <td>-71.033</td>\n      <td>42.34</td>\n      <td>10.0</td>\n      <td>2018</td>\n      <td>09:30:07</td>\n    </tr>\n  </tbody>\n</table>\n</div>"
     },
     "metadata": {},
     "execution_count": 15
    }
   ],
   "source": [
    "rideshare.head(1)"
   ]
  },
  {
   "cell_type": "code",
   "execution_count": 16,
   "metadata": {},
   "outputs": [],
   "source": [
    "# Making minute Column\n",
    "rideshare['minute'] = rideshare['time'].apply(lambda x: x.split(':')[1])"
   ]
  },
  {
   "cell_type": "code",
   "execution_count": 17,
   "metadata": {},
   "outputs": [],
   "source": [
    "# Making second Columns\n",
    "rideshare['seconds'] = rideshare['time'].apply(lambda x: x.split(':')[2])"
   ]
  },
  {
   "cell_type": "code",
   "execution_count": 18,
   "metadata": {},
   "outputs": [
    {
     "output_type": "execute_result",
     "data": {
      "text/plain": [
       "                                     id  hour  day  month  \\\n",
       "0  424553bb-7174-41ea-aeb4-fe06d4f4b9d7     9   16     12   \n",
       "\n",
       "              datetime            source    destination cab_type product_id  \\\n",
       "0  2018-12-16 09:30:07  Haymarket Square  North Station     Lyft  lyft_line   \n",
       "\n",
       "     name  ...  distance  surge_multiplier  latitude  longitude  temperature  \\\n",
       "0  Shared  ...      0.44               1.0   42.2148    -71.033        42.34   \n",
       "\n",
       "   visibility  year      time minute seconds  \n",
       "0        10.0  2018  09:30:07     30      07  \n",
       "\n",
       "[1 rows x 21 columns]"
      ],
      "text/html": "<div>\n<style scoped>\n    .dataframe tbody tr th:only-of-type {\n        vertical-align: middle;\n    }\n\n    .dataframe tbody tr th {\n        vertical-align: top;\n    }\n\n    .dataframe thead th {\n        text-align: right;\n    }\n</style>\n<table border=\"1\" class=\"dataframe\">\n  <thead>\n    <tr style=\"text-align: right;\">\n      <th></th>\n      <th>id</th>\n      <th>hour</th>\n      <th>day</th>\n      <th>month</th>\n      <th>datetime</th>\n      <th>source</th>\n      <th>destination</th>\n      <th>cab_type</th>\n      <th>product_id</th>\n      <th>name</th>\n      <th>...</th>\n      <th>distance</th>\n      <th>surge_multiplier</th>\n      <th>latitude</th>\n      <th>longitude</th>\n      <th>temperature</th>\n      <th>visibility</th>\n      <th>year</th>\n      <th>time</th>\n      <th>minute</th>\n      <th>seconds</th>\n    </tr>\n  </thead>\n  <tbody>\n    <tr>\n      <th>0</th>\n      <td>424553bb-7174-41ea-aeb4-fe06d4f4b9d7</td>\n      <td>9</td>\n      <td>16</td>\n      <td>12</td>\n      <td>2018-12-16 09:30:07</td>\n      <td>Haymarket Square</td>\n      <td>North Station</td>\n      <td>Lyft</td>\n      <td>lyft_line</td>\n      <td>Shared</td>\n      <td>...</td>\n      <td>0.44</td>\n      <td>1.0</td>\n      <td>42.2148</td>\n      <td>-71.033</td>\n      <td>42.34</td>\n      <td>10.0</td>\n      <td>2018</td>\n      <td>09:30:07</td>\n      <td>30</td>\n      <td>07</td>\n    </tr>\n  </tbody>\n</table>\n<p>1 rows × 21 columns</p>\n</div>"
     },
     "metadata": {},
     "execution_count": 18
    }
   ],
   "source": [
    "rideshare.head(1)"
   ]
  },
  {
   "cell_type": "code",
   "execution_count": 19,
   "metadata": {},
   "outputs": [],
   "source": [
    "# Droping datetime and time Columns\n",
    "rideshare.drop(['datetime', 'time'], axis = 1, inplace = True)"
   ]
  },
  {
   "cell_type": "code",
   "execution_count": 20,
   "metadata": {},
   "outputs": [
    {
     "output_type": "execute_result",
     "data": {
      "text/plain": [
       "Index(['id', 'hour', 'day', 'month', 'source', 'destination', 'cab_type',\n",
       "       'product_id', 'name', 'price', 'distance', 'surge_multiplier',\n",
       "       'latitude', 'longitude', 'temperature', 'visibility', 'year', 'minute',\n",
       "       'seconds'],\n",
       "      dtype='object')"
      ]
     },
     "metadata": {},
     "execution_count": 20
    }
   ],
   "source": [
    "rideshare.columns"
   ]
  },
  {
   "source": [
    "**Rearranging the columns**"
   ],
   "cell_type": "markdown",
   "metadata": {}
  },
  {
   "cell_type": "code",
   "execution_count": 21,
   "metadata": {},
   "outputs": [],
   "source": [
    "column = ['id', 'day', 'month', 'year', 'hour', 'minute', 'seconds', 'cab_type', 'product_id', 'name', 'surge_multiplier', 'source', 'destination', 'distance', 'price', 'latitude', 'longitude', 'visibility', 'temperature']\n",
    "\n",
    "rideshare = rideshare.reindex(columns = column)"
   ]
  },
  {
   "cell_type": "code",
   "execution_count": 22,
   "metadata": {},
   "outputs": [
    {
     "output_type": "execute_result",
     "data": {
      "text/plain": [
       "                                     id  day  month  year  hour minute  \\\n",
       "0  424553bb-7174-41ea-aeb4-fe06d4f4b9d7   16     12  2018     9     30   \n",
       "\n",
       "  seconds cab_type product_id    name  surge_multiplier            source  \\\n",
       "0      07     Lyft  lyft_line  Shared               1.0  Haymarket Square   \n",
       "\n",
       "     destination  distance  price  latitude  longitude  visibility  \\\n",
       "0  North Station      0.44    5.0   42.2148    -71.033        10.0   \n",
       "\n",
       "   temperature  \n",
       "0        42.34  "
      ],
      "text/html": "<div>\n<style scoped>\n    .dataframe tbody tr th:only-of-type {\n        vertical-align: middle;\n    }\n\n    .dataframe tbody tr th {\n        vertical-align: top;\n    }\n\n    .dataframe thead th {\n        text-align: right;\n    }\n</style>\n<table border=\"1\" class=\"dataframe\">\n  <thead>\n    <tr style=\"text-align: right;\">\n      <th></th>\n      <th>id</th>\n      <th>day</th>\n      <th>month</th>\n      <th>year</th>\n      <th>hour</th>\n      <th>minute</th>\n      <th>seconds</th>\n      <th>cab_type</th>\n      <th>product_id</th>\n      <th>name</th>\n      <th>surge_multiplier</th>\n      <th>source</th>\n      <th>destination</th>\n      <th>distance</th>\n      <th>price</th>\n      <th>latitude</th>\n      <th>longitude</th>\n      <th>visibility</th>\n      <th>temperature</th>\n    </tr>\n  </thead>\n  <tbody>\n    <tr>\n      <th>0</th>\n      <td>424553bb-7174-41ea-aeb4-fe06d4f4b9d7</td>\n      <td>16</td>\n      <td>12</td>\n      <td>2018</td>\n      <td>9</td>\n      <td>30</td>\n      <td>07</td>\n      <td>Lyft</td>\n      <td>lyft_line</td>\n      <td>Shared</td>\n      <td>1.0</td>\n      <td>Haymarket Square</td>\n      <td>North Station</td>\n      <td>0.44</td>\n      <td>5.0</td>\n      <td>42.2148</td>\n      <td>-71.033</td>\n      <td>10.0</td>\n      <td>42.34</td>\n    </tr>\n  </tbody>\n</table>\n</div>"
     },
     "metadata": {},
     "execution_count": 22
    }
   ],
   "source": [
    "rideshare.head(1)"
   ]
  },
  {
   "source": [
    "### **Converting all the datatype to appropiate columns**"
   ],
   "cell_type": "markdown",
   "metadata": {}
  },
  {
   "cell_type": "code",
   "execution_count": 23,
   "metadata": {},
   "outputs": [
    {
     "output_type": "stream",
     "name": "stdout",
     "text": [
      "<class 'pandas.core.frame.DataFrame'>\nRangeIndex: 693071 entries, 0 to 693070\nData columns (total 19 columns):\n #   Column            Non-Null Count   Dtype  \n---  ------            --------------   -----  \n 0   id                693071 non-null  object \n 1   day               693071 non-null  int64  \n 2   month             693071 non-null  int64  \n 3   year              693071 non-null  object \n 4   hour              693071 non-null  int64  \n 5   minute            693071 non-null  object \n 6   seconds           693071 non-null  object \n 7   cab_type          693071 non-null  object \n 8   product_id        693071 non-null  object \n 9   name              693071 non-null  object \n 10  surge_multiplier  693071 non-null  float64\n 11  source            693071 non-null  object \n 12  destination       693071 non-null  object \n 13  distance          693071 non-null  float64\n 14  price             637976 non-null  float64\n 15  latitude          693071 non-null  float64\n 16  longitude         693071 non-null  float64\n 17  visibility        693071 non-null  float64\n 18  temperature       693071 non-null  float64\ndtypes: float64(7), int64(3), object(9)\nmemory usage: 76.7+ MB\n"
     ]
    }
   ],
   "source": [
    "rideshare.info()"
   ]
  },
  {
   "cell_type": "code",
   "execution_count": 24,
   "metadata": {},
   "outputs": [],
   "source": [
    "rideshare = rideshare.astype({'day': 'int32', 'month': 'int32', 'year': 'int32', \n",
    "'surge_multiplier': 'float32', 'distance': 'float32', \n",
    "'price': 'float32', 'latitude': 'float32', 'longitude': 'float32', \n",
    "'visibility': 'float32', 'temperature': 'float32'})"
   ]
  },
  {
   "cell_type": "code",
   "execution_count": 25,
   "metadata": {},
   "outputs": [
    {
     "output_type": "stream",
     "name": "stdout",
     "text": [
      "<class 'pandas.core.frame.DataFrame'>\nRangeIndex: 693071 entries, 0 to 693070\nData columns (total 19 columns):\n #   Column            Non-Null Count   Dtype  \n---  ------            --------------   -----  \n 0   id                693071 non-null  object \n 1   day               693071 non-null  int32  \n 2   month             693071 non-null  int32  \n 3   year              693071 non-null  int32  \n 4   hour              693071 non-null  int64  \n 5   minute            693071 non-null  object \n 6   seconds           693071 non-null  object \n 7   cab_type          693071 non-null  object \n 8   product_id        693071 non-null  object \n 9   name              693071 non-null  object \n 10  surge_multiplier  693071 non-null  float32\n 11  source            693071 non-null  object \n 12  destination       693071 non-null  object \n 13  distance          693071 non-null  float32\n 14  price             637976 non-null  float32\n 15  latitude          693071 non-null  float32\n 16  longitude         693071 non-null  float32\n 17  visibility        693071 non-null  float32\n 18  temperature       693071 non-null  float32\ndtypes: float32(7), int32(3), int64(1), object(8)\nmemory usage: 52.9+ MB\n"
     ]
    }
   ],
   "source": [
    "rideshare.info()"
   ]
  },
  {
   "cell_type": "code",
   "execution_count": 26,
   "metadata": {},
   "outputs": [
    {
     "output_type": "execute_result",
     "data": {
      "text/plain": [
       "693071"
      ]
     },
     "metadata": {},
     "execution_count": 26
    }
   ],
   "source": [
    "len(rideshare)"
   ]
  },
  {
   "source": [
    "## Creating Seperate Variables to store the information in chunks"
   ],
   "cell_type": "markdown",
   "metadata": {}
  },
  {
   "cell_type": "code",
   "execution_count": 27,
   "metadata": {},
   "outputs": [
    {
     "output_type": "execute_result",
     "data": {
      "text/plain": [
       "array(['Haymarket Square', 'Back Bay', 'North End', 'North Station',\n",
       "       'Beacon Hill', 'Boston University', 'Fenway', 'South Station',\n",
       "       'Theatre District', 'West End', 'Financial District',\n",
       "       'Northeastern University'], dtype=object)"
      ]
     },
     "metadata": {},
     "execution_count": 27
    }
   ],
   "source": [
    "rideshare['source'].unique()"
   ]
  },
  {
   "cell_type": "code",
   "execution_count": 28,
   "metadata": {},
   "outputs": [
    {
     "output_type": "execute_result",
     "data": {
      "text/plain": [
       "array(['North Station', 'Northeastern University', 'West End',\n",
       "       'Haymarket Square', 'South Station', 'Fenway', 'Theatre District',\n",
       "       'Beacon Hill', 'Back Bay', 'North End', 'Financial District',\n",
       "       'Boston University'], dtype=object)"
      ]
     },
     "metadata": {},
     "execution_count": 28
    }
   ],
   "source": [
    "rideshare['destination'].unique()"
   ]
  },
  {
   "cell_type": "code",
   "execution_count": 29,
   "metadata": {},
   "outputs": [
    {
     "output_type": "execute_result",
     "data": {
      "text/plain": [
       "array(['lyft_line', 'lyft_premier', 'lyft', 'lyft_luxsuv', 'lyft_plus',\n",
       "       'lyft_lux', '6f72dfc5-27f1-42e8-84db-ccc7a75f6969',\n",
       "       '6c84fd89-3f11-4782-9b50-97c468b19529',\n",
       "       '55c66225-fbe7-4fd5-9072-eab1ece5e23e',\n",
       "       '9a0e7b09-b92b-4c41-9779-2ad22b4d779d',\n",
       "       '6d318bcc-22a3-4af6-bddd-b409bfce1546',\n",
       "       '997acbb5-e102-41e1-b155-9df7de0a73f2',\n",
       "       '8cf7e821-f0d3-49c6-8eba-e679c0ebcf6a'], dtype=object)"
      ]
     },
     "metadata": {},
     "execution_count": 29
    }
   ],
   "source": [
    "rideshare['product_id'].unique()"
   ]
  },
  {
   "cell_type": "code",
   "execution_count": 30,
   "metadata": {},
   "outputs": [
    {
     "output_type": "execute_result",
     "data": {
      "text/plain": [
       "array(['Shared', 'Lux', 'Lyft', 'Lux Black XL', 'Lyft XL', 'Lux Black',\n",
       "       'UberXL', 'Black', 'UberX', 'WAV', 'Black SUV', 'UberPool', 'Taxi'],\n",
       "      dtype=object)"
      ]
     },
     "metadata": {},
     "execution_count": 30
    }
   ],
   "source": [
    "rideshare['name'].unique()"
   ]
  },
  {
   "cell_type": "code",
   "execution_count": 31,
   "metadata": {},
   "outputs": [
    {
     "output_type": "execute_result",
     "data": {
      "text/plain": [
       "                                     id  day  month  year  hour minute  \\\n",
       "0  424553bb-7174-41ea-aeb4-fe06d4f4b9d7   16     12  2018     9     30   \n",
       "1  4bd23055-6827-41c6-b23b-3c491f24e74d   27     11  2018     2     00   \n",
       "2  981a3613-77af-4620-a42a-0c0866077d1e   28     11  2018     1     00   \n",
       "3  c2d88af2-d278-4bfd-a8d0-29ca77cc5512   30     11  2018     4     53   \n",
       "4  e0126e1f-8ca9-4f2e-82b3-50505a09db9a   29     11  2018     3     49   \n",
       "\n",
       "  seconds cab_type    product_id          name  surge_multiplier  \\\n",
       "0      07     Lyft     lyft_line        Shared               1.0   \n",
       "1      23     Lyft  lyft_premier           Lux               1.0   \n",
       "2      22     Lyft          lyft          Lyft               1.0   \n",
       "3      02     Lyft   lyft_luxsuv  Lux Black XL               1.0   \n",
       "4      20     Lyft     lyft_plus       Lyft XL               1.0   \n",
       "\n",
       "             source    destination  distance  price   latitude  longitude  \\\n",
       "0  Haymarket Square  North Station      0.44    5.0  42.214802 -71.032997   \n",
       "1  Haymarket Square  North Station      0.44   11.0  42.214802 -71.032997   \n",
       "2  Haymarket Square  North Station      0.44    7.0  42.214802 -71.032997   \n",
       "3  Haymarket Square  North Station      0.44   26.0  42.214802 -71.032997   \n",
       "4  Haymarket Square  North Station      0.44    9.0  42.214802 -71.032997   \n",
       "\n",
       "   visibility  temperature  \n",
       "0      10.000    42.340000  \n",
       "1       4.786    43.580002  \n",
       "2      10.000    38.330002  \n",
       "3      10.000    34.380001  \n",
       "4      10.000    37.439999  "
      ],
      "text/html": "<div>\n<style scoped>\n    .dataframe tbody tr th:only-of-type {\n        vertical-align: middle;\n    }\n\n    .dataframe tbody tr th {\n        vertical-align: top;\n    }\n\n    .dataframe thead th {\n        text-align: right;\n    }\n</style>\n<table border=\"1\" class=\"dataframe\">\n  <thead>\n    <tr style=\"text-align: right;\">\n      <th></th>\n      <th>id</th>\n      <th>day</th>\n      <th>month</th>\n      <th>year</th>\n      <th>hour</th>\n      <th>minute</th>\n      <th>seconds</th>\n      <th>cab_type</th>\n      <th>product_id</th>\n      <th>name</th>\n      <th>surge_multiplier</th>\n      <th>source</th>\n      <th>destination</th>\n      <th>distance</th>\n      <th>price</th>\n      <th>latitude</th>\n      <th>longitude</th>\n      <th>visibility</th>\n      <th>temperature</th>\n    </tr>\n  </thead>\n  <tbody>\n    <tr>\n      <th>0</th>\n      <td>424553bb-7174-41ea-aeb4-fe06d4f4b9d7</td>\n      <td>16</td>\n      <td>12</td>\n      <td>2018</td>\n      <td>9</td>\n      <td>30</td>\n      <td>07</td>\n      <td>Lyft</td>\n      <td>lyft_line</td>\n      <td>Shared</td>\n      <td>1.0</td>\n      <td>Haymarket Square</td>\n      <td>North Station</td>\n      <td>0.44</td>\n      <td>5.0</td>\n      <td>42.214802</td>\n      <td>-71.032997</td>\n      <td>10.000</td>\n      <td>42.340000</td>\n    </tr>\n    <tr>\n      <th>1</th>\n      <td>4bd23055-6827-41c6-b23b-3c491f24e74d</td>\n      <td>27</td>\n      <td>11</td>\n      <td>2018</td>\n      <td>2</td>\n      <td>00</td>\n      <td>23</td>\n      <td>Lyft</td>\n      <td>lyft_premier</td>\n      <td>Lux</td>\n      <td>1.0</td>\n      <td>Haymarket Square</td>\n      <td>North Station</td>\n      <td>0.44</td>\n      <td>11.0</td>\n      <td>42.214802</td>\n      <td>-71.032997</td>\n      <td>4.786</td>\n      <td>43.580002</td>\n    </tr>\n    <tr>\n      <th>2</th>\n      <td>981a3613-77af-4620-a42a-0c0866077d1e</td>\n      <td>28</td>\n      <td>11</td>\n      <td>2018</td>\n      <td>1</td>\n      <td>00</td>\n      <td>22</td>\n      <td>Lyft</td>\n      <td>lyft</td>\n      <td>Lyft</td>\n      <td>1.0</td>\n      <td>Haymarket Square</td>\n      <td>North Station</td>\n      <td>0.44</td>\n      <td>7.0</td>\n      <td>42.214802</td>\n      <td>-71.032997</td>\n      <td>10.000</td>\n      <td>38.330002</td>\n    </tr>\n    <tr>\n      <th>3</th>\n      <td>c2d88af2-d278-4bfd-a8d0-29ca77cc5512</td>\n      <td>30</td>\n      <td>11</td>\n      <td>2018</td>\n      <td>4</td>\n      <td>53</td>\n      <td>02</td>\n      <td>Lyft</td>\n      <td>lyft_luxsuv</td>\n      <td>Lux Black XL</td>\n      <td>1.0</td>\n      <td>Haymarket Square</td>\n      <td>North Station</td>\n      <td>0.44</td>\n      <td>26.0</td>\n      <td>42.214802</td>\n      <td>-71.032997</td>\n      <td>10.000</td>\n      <td>34.380001</td>\n    </tr>\n    <tr>\n      <th>4</th>\n      <td>e0126e1f-8ca9-4f2e-82b3-50505a09db9a</td>\n      <td>29</td>\n      <td>11</td>\n      <td>2018</td>\n      <td>3</td>\n      <td>49</td>\n      <td>20</td>\n      <td>Lyft</td>\n      <td>lyft_plus</td>\n      <td>Lyft XL</td>\n      <td>1.0</td>\n      <td>Haymarket Square</td>\n      <td>North Station</td>\n      <td>0.44</td>\n      <td>9.0</td>\n      <td>42.214802</td>\n      <td>-71.032997</td>\n      <td>10.000</td>\n      <td>37.439999</td>\n    </tr>\n  </tbody>\n</table>\n</div>"
     },
     "metadata": {},
     "execution_count": 31
    }
   ],
   "source": [
    "rideshare.head(5)"
   ]
  },
  {
   "source": [
    "## **Different Car Type**"
   ],
   "cell_type": "markdown",
   "metadata": {}
  },
  {
   "cell_type": "code",
   "execution_count": 32,
   "metadata": {},
   "outputs": [
    {
     "output_type": "execute_result",
     "data": {
      "text/plain": [
       "                                     id  day  month  year  hour minute  \\\n",
       "0  424553bb-7174-41ea-aeb4-fe06d4f4b9d7   16     12  2018     9     30   \n",
       "\n",
       "  seconds cab_type product_id    name  surge_multiplier            source  \\\n",
       "0      07     Lyft  lyft_line  Shared               1.0  Haymarket Square   \n",
       "\n",
       "     destination  distance  price   latitude  longitude  visibility  \\\n",
       "0  North Station      0.44    5.0  42.214802 -71.032997        10.0   \n",
       "\n",
       "   temperature  \n",
       "0        42.34  "
      ],
      "text/html": "<div>\n<style scoped>\n    .dataframe tbody tr th:only-of-type {\n        vertical-align: middle;\n    }\n\n    .dataframe tbody tr th {\n        vertical-align: top;\n    }\n\n    .dataframe thead th {\n        text-align: right;\n    }\n</style>\n<table border=\"1\" class=\"dataframe\">\n  <thead>\n    <tr style=\"text-align: right;\">\n      <th></th>\n      <th>id</th>\n      <th>day</th>\n      <th>month</th>\n      <th>year</th>\n      <th>hour</th>\n      <th>minute</th>\n      <th>seconds</th>\n      <th>cab_type</th>\n      <th>product_id</th>\n      <th>name</th>\n      <th>surge_multiplier</th>\n      <th>source</th>\n      <th>destination</th>\n      <th>distance</th>\n      <th>price</th>\n      <th>latitude</th>\n      <th>longitude</th>\n      <th>visibility</th>\n      <th>temperature</th>\n    </tr>\n  </thead>\n  <tbody>\n    <tr>\n      <th>0</th>\n      <td>424553bb-7174-41ea-aeb4-fe06d4f4b9d7</td>\n      <td>16</td>\n      <td>12</td>\n      <td>2018</td>\n      <td>9</td>\n      <td>30</td>\n      <td>07</td>\n      <td>Lyft</td>\n      <td>lyft_line</td>\n      <td>Shared</td>\n      <td>1.0</td>\n      <td>Haymarket Square</td>\n      <td>North Station</td>\n      <td>0.44</td>\n      <td>5.0</td>\n      <td>42.214802</td>\n      <td>-71.032997</td>\n      <td>10.0</td>\n      <td>42.34</td>\n    </tr>\n  </tbody>\n</table>\n</div>"
     },
     "metadata": {},
     "execution_count": 32
    }
   ],
   "source": [
    "shared_car = rideshare.copy()\n",
    "shared_car = shared_car[shared_car.name == 'Shared']\n",
    "shared_car.to_csv('datasets/Car_Type/shared_car.csv', index=False)\n",
    "shared_car.head(1)"
   ]
  },
  {
   "cell_type": "code",
   "execution_count": 33,
   "metadata": {},
   "outputs": [
    {
     "output_type": "execute_result",
     "data": {
      "text/plain": [
       "                                      id  day  month  year  hour minute  \\\n",
       "12  009e9c53-074d-43cf-aef2-0fbc7a47ed3d   30     11  2018    22     13   \n",
       "\n",
       "   seconds cab_type                            product_id    name  \\\n",
       "12      01     Uber  6f72dfc5-27f1-42e8-84db-ccc7a75f6969  UberXL   \n",
       "\n",
       "    surge_multiplier     source destination  distance  price  latitude  \\\n",
       "12               1.0  North End    West End      1.11   12.0   42.3647   \n",
       "\n",
       "    longitude  visibility  temperature  \n",
       "12 -71.054199       9.833    40.130001  "
      ],
      "text/html": "<div>\n<style scoped>\n    .dataframe tbody tr th:only-of-type {\n        vertical-align: middle;\n    }\n\n    .dataframe tbody tr th {\n        vertical-align: top;\n    }\n\n    .dataframe thead th {\n        text-align: right;\n    }\n</style>\n<table border=\"1\" class=\"dataframe\">\n  <thead>\n    <tr style=\"text-align: right;\">\n      <th></th>\n      <th>id</th>\n      <th>day</th>\n      <th>month</th>\n      <th>year</th>\n      <th>hour</th>\n      <th>minute</th>\n      <th>seconds</th>\n      <th>cab_type</th>\n      <th>product_id</th>\n      <th>name</th>\n      <th>surge_multiplier</th>\n      <th>source</th>\n      <th>destination</th>\n      <th>distance</th>\n      <th>price</th>\n      <th>latitude</th>\n      <th>longitude</th>\n      <th>visibility</th>\n      <th>temperature</th>\n    </tr>\n  </thead>\n  <tbody>\n    <tr>\n      <th>12</th>\n      <td>009e9c53-074d-43cf-aef2-0fbc7a47ed3d</td>\n      <td>30</td>\n      <td>11</td>\n      <td>2018</td>\n      <td>22</td>\n      <td>13</td>\n      <td>01</td>\n      <td>Uber</td>\n      <td>6f72dfc5-27f1-42e8-84db-ccc7a75f6969</td>\n      <td>UberXL</td>\n      <td>1.0</td>\n      <td>North End</td>\n      <td>West End</td>\n      <td>1.11</td>\n      <td>12.0</td>\n      <td>42.3647</td>\n      <td>-71.054199</td>\n      <td>9.833</td>\n      <td>40.130001</td>\n    </tr>\n  </tbody>\n</table>\n</div>"
     },
     "metadata": {},
     "execution_count": 33
    }
   ],
   "source": [
    "Uber_XL = rideshare.copy()\n",
    "Uber_XL = Uber_XL[Uber_XL.name == 'UberXL']\n",
    "Uber_XL.to_csv('datasets/Car_Type/uber_xl.csv', index=False)\n",
    "Uber_XL.head(1)"
   ]
  },
  {
   "cell_type": "code",
   "execution_count": 34,
   "metadata": {},
   "outputs": [
    {
     "output_type": "execute_result",
     "data": {
      "text/plain": [
       "                                      id  day  month  year  hour minute  \\\n",
       "15  50ef1165-9d23-416c-a65c-18906207b295   16     12  2018    23     55   \n",
       "\n",
       "   seconds cab_type                            product_id name  \\\n",
       "15      11     Uber  9a0e7b09-b92b-4c41-9779-2ad22b4d779d  WAV   \n",
       "\n",
       "    surge_multiplier     source destination  distance  price  latitude  \\\n",
       "15               1.0  North End    West End      1.11    7.5   42.3647   \n",
       "\n",
       "    longitude  visibility  temperature  \n",
       "15 -71.054199       4.054    41.290001  "
      ],
      "text/html": "<div>\n<style scoped>\n    .dataframe tbody tr th:only-of-type {\n        vertical-align: middle;\n    }\n\n    .dataframe tbody tr th {\n        vertical-align: top;\n    }\n\n    .dataframe thead th {\n        text-align: right;\n    }\n</style>\n<table border=\"1\" class=\"dataframe\">\n  <thead>\n    <tr style=\"text-align: right;\">\n      <th></th>\n      <th>id</th>\n      <th>day</th>\n      <th>month</th>\n      <th>year</th>\n      <th>hour</th>\n      <th>minute</th>\n      <th>seconds</th>\n      <th>cab_type</th>\n      <th>product_id</th>\n      <th>name</th>\n      <th>surge_multiplier</th>\n      <th>source</th>\n      <th>destination</th>\n      <th>distance</th>\n      <th>price</th>\n      <th>latitude</th>\n      <th>longitude</th>\n      <th>visibility</th>\n      <th>temperature</th>\n    </tr>\n  </thead>\n  <tbody>\n    <tr>\n      <th>15</th>\n      <td>50ef1165-9d23-416c-a65c-18906207b295</td>\n      <td>16</td>\n      <td>12</td>\n      <td>2018</td>\n      <td>23</td>\n      <td>55</td>\n      <td>11</td>\n      <td>Uber</td>\n      <td>9a0e7b09-b92b-4c41-9779-2ad22b4d779d</td>\n      <td>WAV</td>\n      <td>1.0</td>\n      <td>North End</td>\n      <td>West End</td>\n      <td>1.11</td>\n      <td>7.5</td>\n      <td>42.3647</td>\n      <td>-71.054199</td>\n      <td>4.054</td>\n      <td>41.290001</td>\n    </tr>\n  </tbody>\n</table>\n</div>"
     },
     "metadata": {},
     "execution_count": 34
    }
   ],
   "source": [
    "wav_car = rideshare.copy()\n",
    "wav_car = wav_car[wav_car.name == 'WAV']\n",
    "wav_car.to_csv('datasets/Car_Type/wav_car.csv', index = False)\n",
    "wav_car.head(1)"
   ]
  },
  {
   "cell_type": "code",
   "execution_count": 35,
   "metadata": {},
   "outputs": [
    {
     "output_type": "execute_result",
     "data": {
      "text/plain": [
       "                                      id  day  month  year  hour minute  \\\n",
       "16  91c4861c-1780-42b0-bca1-bbd64a422cc3   14     12  2018     0     40   \n",
       "\n",
       "   seconds cab_type                            product_id       name  \\\n",
       "16      07     Uber  6d318bcc-22a3-4af6-bddd-b409bfce1546  Black SUV   \n",
       "\n",
       "    surge_multiplier     source destination  distance  price  latitude  \\\n",
       "16               1.0  North End    West End      1.11   26.0   42.3647   \n",
       "\n",
       "    longitude  visibility  temperature  \n",
       "16 -71.054199        10.0        31.25  "
      ],
      "text/html": "<div>\n<style scoped>\n    .dataframe tbody tr th:only-of-type {\n        vertical-align: middle;\n    }\n\n    .dataframe tbody tr th {\n        vertical-align: top;\n    }\n\n    .dataframe thead th {\n        text-align: right;\n    }\n</style>\n<table border=\"1\" class=\"dataframe\">\n  <thead>\n    <tr style=\"text-align: right;\">\n      <th></th>\n      <th>id</th>\n      <th>day</th>\n      <th>month</th>\n      <th>year</th>\n      <th>hour</th>\n      <th>minute</th>\n      <th>seconds</th>\n      <th>cab_type</th>\n      <th>product_id</th>\n      <th>name</th>\n      <th>surge_multiplier</th>\n      <th>source</th>\n      <th>destination</th>\n      <th>distance</th>\n      <th>price</th>\n      <th>latitude</th>\n      <th>longitude</th>\n      <th>visibility</th>\n      <th>temperature</th>\n    </tr>\n  </thead>\n  <tbody>\n    <tr>\n      <th>16</th>\n      <td>91c4861c-1780-42b0-bca1-bbd64a422cc3</td>\n      <td>14</td>\n      <td>12</td>\n      <td>2018</td>\n      <td>0</td>\n      <td>40</td>\n      <td>07</td>\n      <td>Uber</td>\n      <td>6d318bcc-22a3-4af6-bddd-b409bfce1546</td>\n      <td>Black SUV</td>\n      <td>1.0</td>\n      <td>North End</td>\n      <td>West End</td>\n      <td>1.11</td>\n      <td>26.0</td>\n      <td>42.3647</td>\n      <td>-71.054199</td>\n      <td>10.0</td>\n      <td>31.25</td>\n    </tr>\n  </tbody>\n</table>\n</div>"
     },
     "metadata": {},
     "execution_count": 35
    }
   ],
   "source": [
    "Black_SUV = rideshare.copy()\n",
    "Black_SUV = Black_SUV[Black_SUV.name == 'Black SUV']\n",
    "Black_SUV.to_csv('datasets/Car_Type/SUV.csv', index = False)\n",
    "Black_SUV.head(1)"
   ]
  },
  {
   "cell_type": "code",
   "execution_count": 36,
   "metadata": {},
   "outputs": [
    {
     "output_type": "execute_result",
     "data": {
      "text/plain": [
       "                                      id  day  month  year  hour minute  \\\n",
       "18  fa5fb705-03a0-4eb9-82d9-7fe80872f754    1     12  2018    14     13   \n",
       "\n",
       "   seconds cab_type                            product_id  name  \\\n",
       "18      04     Uber  8cf7e821-f0d3-49c6-8eba-e679c0ebcf6a  Taxi   \n",
       "\n",
       "    surge_multiplier     source destination  distance  price  latitude  \\\n",
       "18               1.0  North End    West End      1.11    NaN   42.3647   \n",
       "\n",
       "    longitude  visibility  temperature  \n",
       "18 -71.054199        9.91    36.990002  "
      ],
      "text/html": "<div>\n<style scoped>\n    .dataframe tbody tr th:only-of-type {\n        vertical-align: middle;\n    }\n\n    .dataframe tbody tr th {\n        vertical-align: top;\n    }\n\n    .dataframe thead th {\n        text-align: right;\n    }\n</style>\n<table border=\"1\" class=\"dataframe\">\n  <thead>\n    <tr style=\"text-align: right;\">\n      <th></th>\n      <th>id</th>\n      <th>day</th>\n      <th>month</th>\n      <th>year</th>\n      <th>hour</th>\n      <th>minute</th>\n      <th>seconds</th>\n      <th>cab_type</th>\n      <th>product_id</th>\n      <th>name</th>\n      <th>surge_multiplier</th>\n      <th>source</th>\n      <th>destination</th>\n      <th>distance</th>\n      <th>price</th>\n      <th>latitude</th>\n      <th>longitude</th>\n      <th>visibility</th>\n      <th>temperature</th>\n    </tr>\n  </thead>\n  <tbody>\n    <tr>\n      <th>18</th>\n      <td>fa5fb705-03a0-4eb9-82d9-7fe80872f754</td>\n      <td>1</td>\n      <td>12</td>\n      <td>2018</td>\n      <td>14</td>\n      <td>13</td>\n      <td>04</td>\n      <td>Uber</td>\n      <td>8cf7e821-f0d3-49c6-8eba-e679c0ebcf6a</td>\n      <td>Taxi</td>\n      <td>1.0</td>\n      <td>North End</td>\n      <td>West End</td>\n      <td>1.11</td>\n      <td>NaN</td>\n      <td>42.3647</td>\n      <td>-71.054199</td>\n      <td>9.91</td>\n      <td>36.990002</td>\n    </tr>\n  </tbody>\n</table>\n</div>"
     },
     "metadata": {},
     "execution_count": 36
    }
   ],
   "source": [
    "taxi = rideshare.copy()\n",
    "taxi = taxi[taxi.name == 'Taxi']\n",
    "taxi.to_csv('datasets/Car_Type/taxi.csv', index = False)\n",
    "taxi.head(1)"
   ]
  },
  {
   "cell_type": "code",
   "execution_count": 37,
   "metadata": {},
   "outputs": [
    {
     "output_type": "execute_result",
     "data": {
      "text/plain": [
       "                                      id  day  month  year  hour minute  \\\n",
       "13  23f145da-f0c1-4d1f-a184-496bc003a7db   13     12  2018    10     50   \n",
       "\n",
       "   seconds cab_type                            product_id   name  \\\n",
       "13      11     Uber  6c84fd89-3f11-4782-9b50-97c468b19529  Black   \n",
       "\n",
       "    surge_multiplier     source destination  distance  price  latitude  \\\n",
       "13               1.0  North End    West End      1.11   16.0   42.3647   \n",
       "\n",
       "    longitude  visibility  temperature  \n",
       "13 -71.054199       9.831    20.379999  "
      ],
      "text/html": "<div>\n<style scoped>\n    .dataframe tbody tr th:only-of-type {\n        vertical-align: middle;\n    }\n\n    .dataframe tbody tr th {\n        vertical-align: top;\n    }\n\n    .dataframe thead th {\n        text-align: right;\n    }\n</style>\n<table border=\"1\" class=\"dataframe\">\n  <thead>\n    <tr style=\"text-align: right;\">\n      <th></th>\n      <th>id</th>\n      <th>day</th>\n      <th>month</th>\n      <th>year</th>\n      <th>hour</th>\n      <th>minute</th>\n      <th>seconds</th>\n      <th>cab_type</th>\n      <th>product_id</th>\n      <th>name</th>\n      <th>surge_multiplier</th>\n      <th>source</th>\n      <th>destination</th>\n      <th>distance</th>\n      <th>price</th>\n      <th>latitude</th>\n      <th>longitude</th>\n      <th>visibility</th>\n      <th>temperature</th>\n    </tr>\n  </thead>\n  <tbody>\n    <tr>\n      <th>13</th>\n      <td>23f145da-f0c1-4d1f-a184-496bc003a7db</td>\n      <td>13</td>\n      <td>12</td>\n      <td>2018</td>\n      <td>10</td>\n      <td>50</td>\n      <td>11</td>\n      <td>Uber</td>\n      <td>6c84fd89-3f11-4782-9b50-97c468b19529</td>\n      <td>Black</td>\n      <td>1.0</td>\n      <td>North End</td>\n      <td>West End</td>\n      <td>1.11</td>\n      <td>16.0</td>\n      <td>42.3647</td>\n      <td>-71.054199</td>\n      <td>9.831</td>\n      <td>20.379999</td>\n    </tr>\n  </tbody>\n</table>\n</div>"
     },
     "metadata": {},
     "execution_count": 37
    }
   ],
   "source": [
    "car_type = rideshare.copy()\n",
    "car_type = car_type[car_type.name == 'Black']\n",
    "car_type.to_csv('datasets/Car_Type/car_type.csv', index = False)\n",
    "car_type.head(1)"
   ]
  },
  {
   "cell_type": "code",
   "execution_count": 38,
   "metadata": {},
   "outputs": [
    {
     "output_type": "execute_result",
     "data": {
      "text/plain": [
       "                                      id  day  month  year  hour minute  \\\n",
       "14  357559cb-8c58-4278-a41a-e33b2e0997a3   13     12  2018    19     15   \n",
       "\n",
       "   seconds cab_type                            product_id   name  \\\n",
       "14      03     Uber  55c66225-fbe7-4fd5-9072-eab1ece5e23e  UberX   \n",
       "\n",
       "    surge_multiplier     source destination  distance  price  latitude  \\\n",
       "14               1.0  North End    West End      1.11    7.5   42.3647   \n",
       "\n",
       "    longitude  visibility  temperature  \n",
       "14 -71.054199       9.959    32.849998  "
      ],
      "text/html": "<div>\n<style scoped>\n    .dataframe tbody tr th:only-of-type {\n        vertical-align: middle;\n    }\n\n    .dataframe tbody tr th {\n        vertical-align: top;\n    }\n\n    .dataframe thead th {\n        text-align: right;\n    }\n</style>\n<table border=\"1\" class=\"dataframe\">\n  <thead>\n    <tr style=\"text-align: right;\">\n      <th></th>\n      <th>id</th>\n      <th>day</th>\n      <th>month</th>\n      <th>year</th>\n      <th>hour</th>\n      <th>minute</th>\n      <th>seconds</th>\n      <th>cab_type</th>\n      <th>product_id</th>\n      <th>name</th>\n      <th>surge_multiplier</th>\n      <th>source</th>\n      <th>destination</th>\n      <th>distance</th>\n      <th>price</th>\n      <th>latitude</th>\n      <th>longitude</th>\n      <th>visibility</th>\n      <th>temperature</th>\n    </tr>\n  </thead>\n  <tbody>\n    <tr>\n      <th>14</th>\n      <td>357559cb-8c58-4278-a41a-e33b2e0997a3</td>\n      <td>13</td>\n      <td>12</td>\n      <td>2018</td>\n      <td>19</td>\n      <td>15</td>\n      <td>03</td>\n      <td>Uber</td>\n      <td>55c66225-fbe7-4fd5-9072-eab1ece5e23e</td>\n      <td>UberX</td>\n      <td>1.0</td>\n      <td>North End</td>\n      <td>West End</td>\n      <td>1.11</td>\n      <td>7.5</td>\n      <td>42.3647</td>\n      <td>-71.054199</td>\n      <td>9.959</td>\n      <td>32.849998</td>\n    </tr>\n  </tbody>\n</table>\n</div>"
     },
     "metadata": {},
     "execution_count": 38
    }
   ],
   "source": [
    "uber_x = rideshare.copy()\n",
    "uber_x = uber_x[uber_x.name == 'UberX']\n",
    "uber_x.to_csv('datasets/Car_Type/uber_X.csv', index = False)\n",
    "uber_x.head(1)"
   ]
  },
  {
   "cell_type": "code",
   "execution_count": 39,
   "metadata": {},
   "outputs": [
    {
     "output_type": "execute_result",
     "data": {
      "text/plain": [
       "                                      id  day  month  year  hour minute  \\\n",
       "17  e219e545-a006-4936-a6cc-7d00adf0e418   29     11  2018    19     18   \n",
       "\n",
       "   seconds cab_type                            product_id      name  \\\n",
       "17      00     Uber  997acbb5-e102-41e1-b155-9df7de0a73f2  UberPool   \n",
       "\n",
       "    surge_multiplier     source destination  distance  price  latitude  \\\n",
       "17               1.0  North End    West End      1.11    5.5   42.3647   \n",
       "\n",
       "    longitude  visibility  temperature  \n",
       "17 -71.054199       9.796    43.490002  "
      ],
      "text/html": "<div>\n<style scoped>\n    .dataframe tbody tr th:only-of-type {\n        vertical-align: middle;\n    }\n\n    .dataframe tbody tr th {\n        vertical-align: top;\n    }\n\n    .dataframe thead th {\n        text-align: right;\n    }\n</style>\n<table border=\"1\" class=\"dataframe\">\n  <thead>\n    <tr style=\"text-align: right;\">\n      <th></th>\n      <th>id</th>\n      <th>day</th>\n      <th>month</th>\n      <th>year</th>\n      <th>hour</th>\n      <th>minute</th>\n      <th>seconds</th>\n      <th>cab_type</th>\n      <th>product_id</th>\n      <th>name</th>\n      <th>surge_multiplier</th>\n      <th>source</th>\n      <th>destination</th>\n      <th>distance</th>\n      <th>price</th>\n      <th>latitude</th>\n      <th>longitude</th>\n      <th>visibility</th>\n      <th>temperature</th>\n    </tr>\n  </thead>\n  <tbody>\n    <tr>\n      <th>17</th>\n      <td>e219e545-a006-4936-a6cc-7d00adf0e418</td>\n      <td>29</td>\n      <td>11</td>\n      <td>2018</td>\n      <td>19</td>\n      <td>18</td>\n      <td>00</td>\n      <td>Uber</td>\n      <td>997acbb5-e102-41e1-b155-9df7de0a73f2</td>\n      <td>UberPool</td>\n      <td>1.0</td>\n      <td>North End</td>\n      <td>West End</td>\n      <td>1.11</td>\n      <td>5.5</td>\n      <td>42.3647</td>\n      <td>-71.054199</td>\n      <td>9.796</td>\n      <td>43.490002</td>\n    </tr>\n  </tbody>\n</table>\n</div>"
     },
     "metadata": {},
     "execution_count": 39
    }
   ],
   "source": [
    "Uber_Pool = rideshare.copy()\n",
    "Uber_Pool = Uber_Pool[Uber_Pool.name == 'UberPool']\n",
    "Uber_Pool.to_csv('datasets/Car_Type/uber_pool.csv', index = False)\n",
    "Uber_Pool.head(1)"
   ]
  },
  {
   "cell_type": "code",
   "execution_count": 40,
   "metadata": {},
   "outputs": [
    {
     "output_type": "execute_result",
     "data": {
      "text/plain": [
       "                                     id  day  month  year  hour minute  \\\n",
       "2  981a3613-77af-4620-a42a-0c0866077d1e   28     11  2018     1     00   \n",
       "\n",
       "  seconds cab_type product_id  name  surge_multiplier            source  \\\n",
       "2      22     Lyft       lyft  Lyft               1.0  Haymarket Square   \n",
       "\n",
       "     destination  distance  price   latitude  longitude  visibility  \\\n",
       "2  North Station      0.44    7.0  42.214802 -71.032997        10.0   \n",
       "\n",
       "   temperature  \n",
       "2    38.330002  "
      ],
      "text/html": "<div>\n<style scoped>\n    .dataframe tbody tr th:only-of-type {\n        vertical-align: middle;\n    }\n\n    .dataframe tbody tr th {\n        vertical-align: top;\n    }\n\n    .dataframe thead th {\n        text-align: right;\n    }\n</style>\n<table border=\"1\" class=\"dataframe\">\n  <thead>\n    <tr style=\"text-align: right;\">\n      <th></th>\n      <th>id</th>\n      <th>day</th>\n      <th>month</th>\n      <th>year</th>\n      <th>hour</th>\n      <th>minute</th>\n      <th>seconds</th>\n      <th>cab_type</th>\n      <th>product_id</th>\n      <th>name</th>\n      <th>surge_multiplier</th>\n      <th>source</th>\n      <th>destination</th>\n      <th>distance</th>\n      <th>price</th>\n      <th>latitude</th>\n      <th>longitude</th>\n      <th>visibility</th>\n      <th>temperature</th>\n    </tr>\n  </thead>\n  <tbody>\n    <tr>\n      <th>2</th>\n      <td>981a3613-77af-4620-a42a-0c0866077d1e</td>\n      <td>28</td>\n      <td>11</td>\n      <td>2018</td>\n      <td>1</td>\n      <td>00</td>\n      <td>22</td>\n      <td>Lyft</td>\n      <td>lyft</td>\n      <td>Lyft</td>\n      <td>1.0</td>\n      <td>Haymarket Square</td>\n      <td>North Station</td>\n      <td>0.44</td>\n      <td>7.0</td>\n      <td>42.214802</td>\n      <td>-71.032997</td>\n      <td>10.0</td>\n      <td>38.330002</td>\n    </tr>\n  </tbody>\n</table>\n</div>"
     },
     "metadata": {},
     "execution_count": 40
    }
   ],
   "source": [
    "lyft = rideshare.copy()\n",
    "lyft = lyft[lyft.name == 'Lyft']\n",
    "lyft.to_csv('datasets/Car_Type/lyft.csv', index = False)\n",
    "lyft.head(1)"
   ]
  },
  {
   "cell_type": "code",
   "execution_count": 41,
   "metadata": {},
   "outputs": [
    {
     "output_type": "execute_result",
     "data": {
      "text/plain": [
       "                                     id  day  month  year  hour minute  \\\n",
       "1  4bd23055-6827-41c6-b23b-3c491f24e74d   27     11  2018     2     00   \n",
       "\n",
       "  seconds cab_type    product_id name  surge_multiplier            source  \\\n",
       "1      23     Lyft  lyft_premier  Lux               1.0  Haymarket Square   \n",
       "\n",
       "     destination  distance  price   latitude  longitude  visibility  \\\n",
       "1  North Station      0.44   11.0  42.214802 -71.032997       4.786   \n",
       "\n",
       "   temperature  \n",
       "1    43.580002  "
      ],
      "text/html": "<div>\n<style scoped>\n    .dataframe tbody tr th:only-of-type {\n        vertical-align: middle;\n    }\n\n    .dataframe tbody tr th {\n        vertical-align: top;\n    }\n\n    .dataframe thead th {\n        text-align: right;\n    }\n</style>\n<table border=\"1\" class=\"dataframe\">\n  <thead>\n    <tr style=\"text-align: right;\">\n      <th></th>\n      <th>id</th>\n      <th>day</th>\n      <th>month</th>\n      <th>year</th>\n      <th>hour</th>\n      <th>minute</th>\n      <th>seconds</th>\n      <th>cab_type</th>\n      <th>product_id</th>\n      <th>name</th>\n      <th>surge_multiplier</th>\n      <th>source</th>\n      <th>destination</th>\n      <th>distance</th>\n      <th>price</th>\n      <th>latitude</th>\n      <th>longitude</th>\n      <th>visibility</th>\n      <th>temperature</th>\n    </tr>\n  </thead>\n  <tbody>\n    <tr>\n      <th>1</th>\n      <td>4bd23055-6827-41c6-b23b-3c491f24e74d</td>\n      <td>27</td>\n      <td>11</td>\n      <td>2018</td>\n      <td>2</td>\n      <td>00</td>\n      <td>23</td>\n      <td>Lyft</td>\n      <td>lyft_premier</td>\n      <td>Lux</td>\n      <td>1.0</td>\n      <td>Haymarket Square</td>\n      <td>North Station</td>\n      <td>0.44</td>\n      <td>11.0</td>\n      <td>42.214802</td>\n      <td>-71.032997</td>\n      <td>4.786</td>\n      <td>43.580002</td>\n    </tr>\n  </tbody>\n</table>\n</div>"
     },
     "metadata": {},
     "execution_count": 41
    }
   ],
   "source": [
    "lux_car = rideshare.copy()\n",
    "lux_car = lux_car[lux_car.name == 'Lux']\n",
    "lux_car.to_csv('datasets/Car_Type/lux_car.csv', index = False)\n",
    "lux_car.head(1)"
   ]
  },
  {
   "cell_type": "code",
   "execution_count": 42,
   "metadata": {},
   "outputs": [
    {
     "output_type": "execute_result",
     "data": {
      "text/plain": [
       "                                     id  day  month  year  hour minute  \\\n",
       "3  c2d88af2-d278-4bfd-a8d0-29ca77cc5512   30     11  2018     4     53   \n",
       "\n",
       "  seconds cab_type   product_id          name  surge_multiplier  \\\n",
       "3      02     Lyft  lyft_luxsuv  Lux Black XL               1.0   \n",
       "\n",
       "             source    destination  distance  price   latitude  longitude  \\\n",
       "3  Haymarket Square  North Station      0.44   26.0  42.214802 -71.032997   \n",
       "\n",
       "   visibility  temperature  \n",
       "3        10.0    34.380001  "
      ],
      "text/html": "<div>\n<style scoped>\n    .dataframe tbody tr th:only-of-type {\n        vertical-align: middle;\n    }\n\n    .dataframe tbody tr th {\n        vertical-align: top;\n    }\n\n    .dataframe thead th {\n        text-align: right;\n    }\n</style>\n<table border=\"1\" class=\"dataframe\">\n  <thead>\n    <tr style=\"text-align: right;\">\n      <th></th>\n      <th>id</th>\n      <th>day</th>\n      <th>month</th>\n      <th>year</th>\n      <th>hour</th>\n      <th>minute</th>\n      <th>seconds</th>\n      <th>cab_type</th>\n      <th>product_id</th>\n      <th>name</th>\n      <th>surge_multiplier</th>\n      <th>source</th>\n      <th>destination</th>\n      <th>distance</th>\n      <th>price</th>\n      <th>latitude</th>\n      <th>longitude</th>\n      <th>visibility</th>\n      <th>temperature</th>\n    </tr>\n  </thead>\n  <tbody>\n    <tr>\n      <th>3</th>\n      <td>c2d88af2-d278-4bfd-a8d0-29ca77cc5512</td>\n      <td>30</td>\n      <td>11</td>\n      <td>2018</td>\n      <td>4</td>\n      <td>53</td>\n      <td>02</td>\n      <td>Lyft</td>\n      <td>lyft_luxsuv</td>\n      <td>Lux Black XL</td>\n      <td>1.0</td>\n      <td>Haymarket Square</td>\n      <td>North Station</td>\n      <td>0.44</td>\n      <td>26.0</td>\n      <td>42.214802</td>\n      <td>-71.032997</td>\n      <td>10.0</td>\n      <td>34.380001</td>\n    </tr>\n  </tbody>\n</table>\n</div>"
     },
     "metadata": {},
     "execution_count": 42
    }
   ],
   "source": [
    "lux_black_xl = rideshare.copy()\n",
    "lux_black_xl = lux_black_xl[lux_black_xl.name == 'Lux Black XL']\n",
    "lux_black_xl.to_csv('datasets/Car_Type/lux_black_xl.csv', index = False)\n",
    "lux_black_xl.head(1)"
   ]
  },
  {
   "cell_type": "code",
   "execution_count": 43,
   "metadata": {},
   "outputs": [
    {
     "output_type": "execute_result",
     "data": {
      "text/plain": [
       "                                     id  day  month  year  hour minute  \\\n",
       "5  f6f6d7e4-3e18-4922-a5f5-181cdd3fa6f2   17     12  2018    18     25   \n",
       "\n",
       "  seconds cab_type product_id       name  surge_multiplier            source  \\\n",
       "5      12     Lyft   lyft_lux  Lux Black               1.0  Haymarket Square   \n",
       "\n",
       "     destination  distance  price   latitude  longitude  visibility  \\\n",
       "5  North Station      0.44   16.5  42.214802 -71.032997       8.325   \n",
       "\n",
       "   temperature  \n",
       "5        38.75  "
      ],
      "text/html": "<div>\n<style scoped>\n    .dataframe tbody tr th:only-of-type {\n        vertical-align: middle;\n    }\n\n    .dataframe tbody tr th {\n        vertical-align: top;\n    }\n\n    .dataframe thead th {\n        text-align: right;\n    }\n</style>\n<table border=\"1\" class=\"dataframe\">\n  <thead>\n    <tr style=\"text-align: right;\">\n      <th></th>\n      <th>id</th>\n      <th>day</th>\n      <th>month</th>\n      <th>year</th>\n      <th>hour</th>\n      <th>minute</th>\n      <th>seconds</th>\n      <th>cab_type</th>\n      <th>product_id</th>\n      <th>name</th>\n      <th>surge_multiplier</th>\n      <th>source</th>\n      <th>destination</th>\n      <th>distance</th>\n      <th>price</th>\n      <th>latitude</th>\n      <th>longitude</th>\n      <th>visibility</th>\n      <th>temperature</th>\n    </tr>\n  </thead>\n  <tbody>\n    <tr>\n      <th>5</th>\n      <td>f6f6d7e4-3e18-4922-a5f5-181cdd3fa6f2</td>\n      <td>17</td>\n      <td>12</td>\n      <td>2018</td>\n      <td>18</td>\n      <td>25</td>\n      <td>12</td>\n      <td>Lyft</td>\n      <td>lyft_lux</td>\n      <td>Lux Black</td>\n      <td>1.0</td>\n      <td>Haymarket Square</td>\n      <td>North Station</td>\n      <td>0.44</td>\n      <td>16.5</td>\n      <td>42.214802</td>\n      <td>-71.032997</td>\n      <td>8.325</td>\n      <td>38.75</td>\n    </tr>\n  </tbody>\n</table>\n</div>"
     },
     "metadata": {},
     "execution_count": 43
    }
   ],
   "source": [
    "lux_Black = rideshare.copy()\n",
    "lux_Black = lux_Black[lux_Black.name == 'Lux Black']\n",
    "lux_Black.to_csv('datasets/Car_Type/lux_Black.csv', index = False)\n",
    "lux_Black.head(1)"
   ]
  },
  {
   "cell_type": "code",
   "execution_count": 44,
   "metadata": {},
   "outputs": [
    {
     "output_type": "execute_result",
     "data": {
      "text/plain": [
       "                                     id  day  month  year  hour minute  \\\n",
       "4  e0126e1f-8ca9-4f2e-82b3-50505a09db9a   29     11  2018     3     49   \n",
       "\n",
       "  seconds cab_type product_id     name  surge_multiplier            source  \\\n",
       "4      20     Lyft  lyft_plus  Lyft XL               1.0  Haymarket Square   \n",
       "\n",
       "     destination  distance  price   latitude  longitude  visibility  \\\n",
       "4  North Station      0.44    9.0  42.214802 -71.032997        10.0   \n",
       "\n",
       "   temperature  \n",
       "4    37.439999  "
      ],
      "text/html": "<div>\n<style scoped>\n    .dataframe tbody tr th:only-of-type {\n        vertical-align: middle;\n    }\n\n    .dataframe tbody tr th {\n        vertical-align: top;\n    }\n\n    .dataframe thead th {\n        text-align: right;\n    }\n</style>\n<table border=\"1\" class=\"dataframe\">\n  <thead>\n    <tr style=\"text-align: right;\">\n      <th></th>\n      <th>id</th>\n      <th>day</th>\n      <th>month</th>\n      <th>year</th>\n      <th>hour</th>\n      <th>minute</th>\n      <th>seconds</th>\n      <th>cab_type</th>\n      <th>product_id</th>\n      <th>name</th>\n      <th>surge_multiplier</th>\n      <th>source</th>\n      <th>destination</th>\n      <th>distance</th>\n      <th>price</th>\n      <th>latitude</th>\n      <th>longitude</th>\n      <th>visibility</th>\n      <th>temperature</th>\n    </tr>\n  </thead>\n  <tbody>\n    <tr>\n      <th>4</th>\n      <td>e0126e1f-8ca9-4f2e-82b3-50505a09db9a</td>\n      <td>29</td>\n      <td>11</td>\n      <td>2018</td>\n      <td>3</td>\n      <td>49</td>\n      <td>20</td>\n      <td>Lyft</td>\n      <td>lyft_plus</td>\n      <td>Lyft XL</td>\n      <td>1.0</td>\n      <td>Haymarket Square</td>\n      <td>North Station</td>\n      <td>0.44</td>\n      <td>9.0</td>\n      <td>42.214802</td>\n      <td>-71.032997</td>\n      <td>10.0</td>\n      <td>37.439999</td>\n    </tr>\n  </tbody>\n</table>\n</div>"
     },
     "metadata": {},
     "execution_count": 44
    }
   ],
   "source": [
    "lyft_xl = rideshare.copy()\n",
    "lyft_xl = lyft_xl[lyft_xl.name == 'Lyft XL']\n",
    "lyft_xl.to_csv('datasets/Car_Type/lyft_xl.csv', index = False)\n",
    "lyft_xl.head(1)"
   ]
  },
  {
   "source": [
    "## **Seperate column for Uber and Lyft**"
   ],
   "cell_type": "markdown",
   "metadata": {}
  },
  {
   "cell_type": "code",
   "execution_count": 45,
   "metadata": {},
   "outputs": [
    {
     "output_type": "execute_result",
     "data": {
      "text/plain": [
       "                                     id  day  month  year  hour minute  \\\n",
       "0  424553bb-7174-41ea-aeb4-fe06d4f4b9d7   16     12  2018     9     30   \n",
       "\n",
       "  seconds cab_type product_id    name  surge_multiplier            source  \\\n",
       "0      07     Lyft  lyft_line  Shared               1.0  Haymarket Square   \n",
       "\n",
       "     destination  distance  price   latitude  longitude  visibility  \\\n",
       "0  North Station      0.44    5.0  42.214802 -71.032997        10.0   \n",
       "\n",
       "   temperature  \n",
       "0        42.34  "
      ],
      "text/html": "<div>\n<style scoped>\n    .dataframe tbody tr th:only-of-type {\n        vertical-align: middle;\n    }\n\n    .dataframe tbody tr th {\n        vertical-align: top;\n    }\n\n    .dataframe thead th {\n        text-align: right;\n    }\n</style>\n<table border=\"1\" class=\"dataframe\">\n  <thead>\n    <tr style=\"text-align: right;\">\n      <th></th>\n      <th>id</th>\n      <th>day</th>\n      <th>month</th>\n      <th>year</th>\n      <th>hour</th>\n      <th>minute</th>\n      <th>seconds</th>\n      <th>cab_type</th>\n      <th>product_id</th>\n      <th>name</th>\n      <th>surge_multiplier</th>\n      <th>source</th>\n      <th>destination</th>\n      <th>distance</th>\n      <th>price</th>\n      <th>latitude</th>\n      <th>longitude</th>\n      <th>visibility</th>\n      <th>temperature</th>\n    </tr>\n  </thead>\n  <tbody>\n    <tr>\n      <th>0</th>\n      <td>424553bb-7174-41ea-aeb4-fe06d4f4b9d7</td>\n      <td>16</td>\n      <td>12</td>\n      <td>2018</td>\n      <td>9</td>\n      <td>30</td>\n      <td>07</td>\n      <td>Lyft</td>\n      <td>lyft_line</td>\n      <td>Shared</td>\n      <td>1.0</td>\n      <td>Haymarket Square</td>\n      <td>North Station</td>\n      <td>0.44</td>\n      <td>5.0</td>\n      <td>42.214802</td>\n      <td>-71.032997</td>\n      <td>10.0</td>\n      <td>42.34</td>\n    </tr>\n  </tbody>\n</table>\n</div>"
     },
     "metadata": {},
     "execution_count": 45
    }
   ],
   "source": [
    "cab = rideshare.copy()\n",
    "cab = cab[cab.cab_type == 'Lyft'] \n",
    "cab.to_csv('datasets/Cab_Type/Lyft_cab.csv', index = False)\n",
    "cab.head(1)"
   ]
  },
  {
   "cell_type": "code",
   "execution_count": 46,
   "metadata": {},
   "outputs": [
    {
     "output_type": "execute_result",
     "data": {
      "text/plain": [
       "                                      id  day  month  year  hour minute  \\\n",
       "12  009e9c53-074d-43cf-aef2-0fbc7a47ed3d   30     11  2018    22     13   \n",
       "\n",
       "   seconds cab_type                            product_id    name  \\\n",
       "12      01     Uber  6f72dfc5-27f1-42e8-84db-ccc7a75f6969  UberXL   \n",
       "\n",
       "    surge_multiplier     source destination  distance  price  latitude  \\\n",
       "12               1.0  North End    West End      1.11   12.0   42.3647   \n",
       "\n",
       "    longitude  visibility  temperature  \n",
       "12 -71.054199       9.833    40.130001  "
      ],
      "text/html": "<div>\n<style scoped>\n    .dataframe tbody tr th:only-of-type {\n        vertical-align: middle;\n    }\n\n    .dataframe tbody tr th {\n        vertical-align: top;\n    }\n\n    .dataframe thead th {\n        text-align: right;\n    }\n</style>\n<table border=\"1\" class=\"dataframe\">\n  <thead>\n    <tr style=\"text-align: right;\">\n      <th></th>\n      <th>id</th>\n      <th>day</th>\n      <th>month</th>\n      <th>year</th>\n      <th>hour</th>\n      <th>minute</th>\n      <th>seconds</th>\n      <th>cab_type</th>\n      <th>product_id</th>\n      <th>name</th>\n      <th>surge_multiplier</th>\n      <th>source</th>\n      <th>destination</th>\n      <th>distance</th>\n      <th>price</th>\n      <th>latitude</th>\n      <th>longitude</th>\n      <th>visibility</th>\n      <th>temperature</th>\n    </tr>\n  </thead>\n  <tbody>\n    <tr>\n      <th>12</th>\n      <td>009e9c53-074d-43cf-aef2-0fbc7a47ed3d</td>\n      <td>30</td>\n      <td>11</td>\n      <td>2018</td>\n      <td>22</td>\n      <td>13</td>\n      <td>01</td>\n      <td>Uber</td>\n      <td>6f72dfc5-27f1-42e8-84db-ccc7a75f6969</td>\n      <td>UberXL</td>\n      <td>1.0</td>\n      <td>North End</td>\n      <td>West End</td>\n      <td>1.11</td>\n      <td>12.0</td>\n      <td>42.3647</td>\n      <td>-71.054199</td>\n      <td>9.833</td>\n      <td>40.130001</td>\n    </tr>\n  </tbody>\n</table>\n</div>"
     },
     "metadata": {},
     "execution_count": 46
    }
   ],
   "source": [
    "cab_Uber = rideshare.copy()\n",
    "cab_Uber = cab_Uber[cab_Uber.cab_type != 'Lyft']\n",
    "cab_Uber.to_csv('datasets/Cab_Type/Uber_cab.csv', index = False)\n",
    "cab_Uber.head(1)"
   ]
  },
  {
   "cell_type": "code",
   "execution_count": 47,
   "metadata": {},
   "outputs": [
    {
     "output_type": "execute_result",
     "data": {
      "text/plain": [
       "UberXL          55096\n",
       "Black SUV       55096\n",
       "WAV             55096\n",
       "Black           55095\n",
       "Taxi            55095\n",
       "UberX           55094\n",
       "UberPool        55091\n",
       "Lyft            51235\n",
       "Lyft XL         51235\n",
       "Lux             51235\n",
       "Lux Black XL    51235\n",
       "Lux Black       51235\n",
       "Shared          51233\n",
       "Name: name, dtype: int64"
      ]
     },
     "metadata": {},
     "execution_count": 47
    }
   ],
   "source": [
    "rideshare.name.value_counts()"
   ]
  }
 ]
}